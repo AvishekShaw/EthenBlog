{
 "cells": [
  {
   "cell_type": "code",
   "execution_count": 9,
   "id": "0c87168b-5104-48d7-9b4b-e010937203ea",
   "metadata": {},
   "outputs": [],
   "source": [
    "from scipy import stats\n",
    "import numpy as np"
   ]
  },
  {
   "cell_type": "code",
   "execution_count": 19,
   "id": "ab71a575-e1b1-475a-ba92-ac5bc6a1bbac",
   "metadata": {},
   "outputs": [
    {
     "data": {
      "text/plain": [
       "3.090232306167813"
      ]
     },
     "execution_count": 19,
     "metadata": {},
     "output_type": "execute_result"
    }
   ],
   "source": [
    "stats.norm.ppf(0.999)"
   ]
  },
  {
   "cell_type": "code",
   "execution_count": 14,
   "id": "a3a23d03-7f34-4b1e-820c-d547984fa949",
   "metadata": {},
   "outputs": [
    {
     "data": {
      "text/plain": [
       "\u001b[0;31mSignature:\u001b[0m \u001b[0mstats\u001b[0m\u001b[0;34m.\u001b[0m\u001b[0mnorm\u001b[0m\u001b[0;34m.\u001b[0m\u001b[0mppf\u001b[0m\u001b[0;34m(\u001b[0m\u001b[0mq\u001b[0m\u001b[0;34m,\u001b[0m \u001b[0;34m*\u001b[0m\u001b[0margs\u001b[0m\u001b[0;34m,\u001b[0m \u001b[0;34m**\u001b[0m\u001b[0mkwds\u001b[0m\u001b[0;34m)\u001b[0m\u001b[0;34m\u001b[0m\u001b[0;34m\u001b[0m\u001b[0m\n",
       "\u001b[0;31mDocstring:\u001b[0m\n",
       "Percent point function (inverse of `cdf`) at q of the given RV.\n",
       "\n",
       "Parameters\n",
       "----------\n",
       "q : array_like\n",
       "    lower tail probability\n",
       "arg1, arg2, arg3,... : array_like\n",
       "    The shape parameter(s) for the distribution (see docstring of the\n",
       "    instance object for more information)\n",
       "loc : array_like, optional\n",
       "    location parameter (default=0)\n",
       "scale : array_like, optional\n",
       "    scale parameter (default=1)\n",
       "\n",
       "Returns\n",
       "-------\n",
       "x : array_like\n",
       "    quantile corresponding to the lower tail probability q.\n",
       "\u001b[0;31mFile:\u001b[0m      ~/anaconda3/lib/python3.8/site-packages/scipy/stats/_distn_infrastructure.py\n",
       "\u001b[0;31mType:\u001b[0m      method"
      ]
     },
     "metadata": {},
     "output_type": "display_data"
    }
   ],
   "source": [
    "?stats.norm.ppf"
   ]
  },
  {
   "cell_type": "code",
   "execution_count": 12,
   "id": "d2238bff-ed37-4de2-89e8-ecf2b3f70e93",
   "metadata": {},
   "outputs": [
    {
     "data": {
      "text/plain": [
       "array([[[954, 959, 928, 812],\n",
       "        [896, 486, 280, 428],\n",
       "        [162, 370, 749, 218],\n",
       "        [ 57, 659, 270, 660],\n",
       "        [232, 636, 356,  98],\n",
       "        [232, 305,  89, 424],\n",
       "        [305, 274, 481, 944],\n",
       "        [137, 137, 287, 393],\n",
       "        [899, 232, 867, 338],\n",
       "        [ 81, 466, 767, 341],\n",
       "        [882, 679, 474, 440],\n",
       "        [123, 539, 983, 964],\n",
       "        [ 54, 920, 427, 841],\n",
       "        [188, 699, 334, 329],\n",
       "        [466, 385, 830,  91],\n",
       "        [ 12, 574, 463, 116],\n",
       "        [333, 825, 666, 216],\n",
       "        [900, 292, 281, 376],\n",
       "        [ 19, 581, 841, 575],\n",
       "        [ 54, 711, 784, 208],\n",
       "        [483, 354,  60, 510],\n",
       "        [124, 197, 367, 933],\n",
       "        [796, 821, 145,  79]],\n",
       "\n",
       "       [[757, 301, 275, 368],\n",
       "        [137, 110, 468, 208],\n",
       "        [707, 152, 171, 355],\n",
       "        [115, 344, 648, 446],\n",
       "        [146, 673, 938, 316],\n",
       "        [261, 760, 556, 528],\n",
       "        [230, 186, 490, 315],\n",
       "        [155, 640, 387, 258],\n",
       "        [234, 147, 866, 681],\n",
       "        [552,   5, 972, 366],\n",
       "        [951, 442, 540, 322],\n",
       "        [504, 184,  19, 792],\n",
       "        [464, 838, 167, 616],\n",
       "        [574, 868, 885, 684],\n",
       "        [ 34, 952, 548, 218],\n",
       "        [469,  15, 632, 251],\n",
       "        [716,  69, 559, 145],\n",
       "        [562, 203, 355, 832],\n",
       "        [240, 807, 426, 782],\n",
       "        [174,  99, 223,  68],\n",
       "        [812, 922, 828, 686],\n",
       "        [171, 423, 584, 358],\n",
       "        [682, 476, 325,  42]]])"
      ]
     },
     "execution_count": 12,
     "metadata": {},
     "output_type": "execute_result"
    }
   ],
   "source": [
    "np.random.choice(1000,(2,23,4))"
   ]
  },
  {
   "cell_type": "code",
   "execution_count": 10,
   "id": "b698d1bc-f297-454b-9016-3babf9b0d2d7",
   "metadata": {},
   "outputs": [
    {
     "data": {
      "text/plain": [
       "\u001b[0;31mDocstring:\u001b[0m\n",
       "choice(a, size=None, replace=True, p=None)\n",
       "\n",
       "Generates a random sample from a given 1-D array\n",
       "\n",
       ".. versionadded:: 1.7.0\n",
       "\n",
       ".. note::\n",
       "    New code should use the ``choice`` method of a ``default_rng()``\n",
       "    instance instead; please see the :ref:`random-quick-start`.\n",
       "\n",
       "Parameters\n",
       "----------\n",
       "a : 1-D array-like or int\n",
       "    If an ndarray, a random sample is generated from its elements.\n",
       "    If an int, the random sample is generated as if it were ``np.arange(a)``\n",
       "size : int or tuple of ints, optional\n",
       "    Output shape.  If the given shape is, e.g., ``(m, n, k)``, then\n",
       "    ``m * n * k`` samples are drawn.  Default is None, in which case a\n",
       "    single value is returned.\n",
       "replace : boolean, optional\n",
       "    Whether the sample is with or without replacement. Default is True,\n",
       "    meaning that a value of ``a`` can be selected multiple times.\n",
       "p : 1-D array-like, optional\n",
       "    The probabilities associated with each entry in a.\n",
       "    If not given, the sample assumes a uniform distribution over all\n",
       "    entries in ``a``.\n",
       "\n",
       "Returns\n",
       "-------\n",
       "samples : single item or ndarray\n",
       "    The generated random samples\n",
       "\n",
       "Raises\n",
       "------\n",
       "ValueError\n",
       "    If a is an int and less than zero, if a or p are not 1-dimensional,\n",
       "    if a is an array-like of size 0, if p is not a vector of\n",
       "    probabilities, if a and p have different lengths, or if\n",
       "    replace=False and the sample size is greater than the population\n",
       "    size\n",
       "\n",
       "See Also\n",
       "--------\n",
       "randint, shuffle, permutation\n",
       "Generator.choice: which should be used in new code\n",
       "\n",
       "Notes\n",
       "-----\n",
       "Setting user-specified probabilities through ``p`` uses a more general but less\n",
       "efficient sampler than the default. The general sampler produces a different sample\n",
       "than the optimized sampler even if each element of ``p`` is 1 / len(a).\n",
       "\n",
       "Sampling random rows from a 2-D array is not possible with this function,\n",
       "but is possible with `Generator.choice` through its ``axis`` keyword.\n",
       "\n",
       "Examples\n",
       "--------\n",
       "Generate a uniform random sample from np.arange(5) of size 3:\n",
       "\n",
       ">>> np.random.choice(5, 3)\n",
       "array([0, 3, 4]) # random\n",
       ">>> #This is equivalent to np.random.randint(0,5,3)\n",
       "\n",
       "Generate a non-uniform random sample from np.arange(5) of size 3:\n",
       "\n",
       ">>> np.random.choice(5, 3, p=[0.1, 0, 0.3, 0.6, 0])\n",
       "array([3, 3, 0]) # random\n",
       "\n",
       "Generate a uniform random sample from np.arange(5) of size 3 without\n",
       "replacement:\n",
       "\n",
       ">>> np.random.choice(5, 3, replace=False)\n",
       "array([3,1,0]) # random\n",
       ">>> #This is equivalent to np.random.permutation(np.arange(5))[:3]\n",
       "\n",
       "Generate a non-uniform random sample from np.arange(5) of size\n",
       "3 without replacement:\n",
       "\n",
       ">>> np.random.choice(5, 3, replace=False, p=[0.1, 0, 0.3, 0.6, 0])\n",
       "array([2, 3, 0]) # random\n",
       "\n",
       "Any of the above can be repeated with an arbitrary array-like\n",
       "instead of just integers. For instance:\n",
       "\n",
       ">>> aa_milne_arr = ['pooh', 'rabbit', 'piglet', 'Christopher']\n",
       ">>> np.random.choice(aa_milne_arr, 5, p=[0.5, 0.1, 0.1, 0.3])\n",
       "array(['pooh', 'pooh', 'pooh', 'Christopher', 'piglet'], # random\n",
       "      dtype='<U11')\n",
       "\u001b[0;31mType:\u001b[0m      builtin_function_or_method"
      ]
     },
     "metadata": {},
     "output_type": "display_data"
    }
   ],
   "source": [
    "?np.random.choice"
   ]
  },
  {
   "cell_type": "code",
   "execution_count": 7,
   "id": "f45ef57a-c25a-4ae4-99a2-5bb367be0e9a",
   "metadata": {},
   "outputs": [
    {
     "data": {
      "text/plain": [
       "array([ 7, 10,  8, 12, 13,  8, 10, 13,  9, 11])"
      ]
     },
     "execution_count": 7,
     "metadata": {},
     "output_type": "execute_result"
    }
   ],
   "source": [
    "stats.poisson.rvs(mu=5, loc=5, size=10)"
   ]
  },
  {
   "cell_type": "code",
   "execution_count": 8,
   "id": "04b27fc2-f9e3-415a-99a3-4149cd891d58",
   "metadata": {},
   "outputs": [
    {
     "data": {
      "text/plain": [
       "array([506, 506, 505, 504, 508, 504, 512, 506, 502, 503])"
      ]
     },
     "execution_count": 8,
     "metadata": {},
     "output_type": "execute_result"
    }
   ],
   "source": [
    "stats.poisson.rvs(mu=5, loc=500, size=10)"
   ]
  },
  {
   "cell_type": "code",
   "execution_count": null,
   "id": "2666461b-5c30-464e-940a-bb35820afcbf",
   "metadata": {},
   "outputs": [],
   "source": []
  },
  {
   "cell_type": "code",
   "execution_count": 4,
   "id": "b2764281-9228-4153-a97c-42c70e982e26",
   "metadata": {},
   "outputs": [
    {
     "data": {
      "text/plain": [
       "\u001b[0;31mSignature:\u001b[0m       \u001b[0mstats\u001b[0m\u001b[0;34m.\u001b[0m\u001b[0mpoisson\u001b[0m\u001b[0;34m(\u001b[0m\u001b[0;34m*\u001b[0m\u001b[0margs\u001b[0m\u001b[0;34m,\u001b[0m \u001b[0;34m**\u001b[0m\u001b[0mkwds\u001b[0m\u001b[0;34m)\u001b[0m\u001b[0;34m\u001b[0m\u001b[0;34m\u001b[0m\u001b[0m\n",
       "\u001b[0;31mType:\u001b[0m            poisson_gen\n",
       "\u001b[0;31mString form:\u001b[0m     <scipy.stats._discrete_distns.poisson_gen object at 0x7ff07ee2dc70>\n",
       "\u001b[0;31mFile:\u001b[0m            ~/anaconda3/lib/python3.8/site-packages/scipy/stats/_discrete_distns.py\n",
       "\u001b[0;31mDocstring:\u001b[0m      \n",
       "A Poisson discrete random variable.\n",
       "\n",
       "As an instance of the `rv_discrete` class, `poisson` object inherits from it\n",
       "a collection of generic methods (see below for the full list),\n",
       "and completes them with details specific for this particular distribution.\n",
       "\n",
       "Methods\n",
       "-------\n",
       "rvs(mu, loc=0, size=1, random_state=None)\n",
       "    Random variates.\n",
       "pmf(k, mu, loc=0)\n",
       "    Probability mass function.\n",
       "logpmf(k, mu, loc=0)\n",
       "    Log of the probability mass function.\n",
       "cdf(k, mu, loc=0)\n",
       "    Cumulative distribution function.\n",
       "logcdf(k, mu, loc=0)\n",
       "    Log of the cumulative distribution function.\n",
       "sf(k, mu, loc=0)\n",
       "    Survival function  (also defined as ``1 - cdf``, but `sf` is sometimes more accurate).\n",
       "logsf(k, mu, loc=0)\n",
       "    Log of the survival function.\n",
       "ppf(q, mu, loc=0)\n",
       "    Percent point function (inverse of ``cdf`` --- percentiles).\n",
       "isf(q, mu, loc=0)\n",
       "    Inverse survival function (inverse of ``sf``).\n",
       "stats(mu, loc=0, moments='mv')\n",
       "    Mean('m'), variance('v'), skew('s'), and/or kurtosis('k').\n",
       "entropy(mu, loc=0)\n",
       "    (Differential) entropy of the RV.\n",
       "expect(func, args=(mu,), loc=0, lb=None, ub=None, conditional=False)\n",
       "    Expected value of a function (of one argument) with respect to the distribution.\n",
       "median(mu, loc=0)\n",
       "    Median of the distribution.\n",
       "mean(mu, loc=0)\n",
       "    Mean of the distribution.\n",
       "var(mu, loc=0)\n",
       "    Variance of the distribution.\n",
       "std(mu, loc=0)\n",
       "    Standard deviation of the distribution.\n",
       "interval(alpha, mu, loc=0)\n",
       "    Endpoints of the range that contains fraction alpha [0, 1] of the\n",
       "    distribution\n",
       "\n",
       "Notes\n",
       "-----\n",
       "The probability mass function for `poisson` is:\n",
       "\n",
       ".. math::\n",
       "\n",
       "    f(k) = \\exp(-\\mu) \\frac{\\mu^k}{k!}\n",
       "\n",
       "for :math:`k \\ge 0`.\n",
       "\n",
       "`poisson` takes :math:`\\mu \\geq 0` as shape parameter.\n",
       "When :math:`\\mu = 0`, the ``pmf`` method\n",
       "returns ``1.0`` at quantile :math:`k = 0`.\n",
       "\n",
       "The probability mass function above is defined in the \"standardized\" form.\n",
       "To shift distribution use the ``loc`` parameter.\n",
       "Specifically, ``poisson.pmf(k, mu, loc)`` is identically\n",
       "equivalent to ``poisson.pmf(k - loc, mu)``.\n",
       "\n",
       "Examples\n",
       "--------\n",
       ">>> from scipy.stats import poisson\n",
       ">>> import matplotlib.pyplot as plt\n",
       ">>> fig, ax = plt.subplots(1, 1)\n",
       "\n",
       "Calculate the first four moments:\n",
       "\n",
       ">>> mu = 0.6\n",
       ">>> mean, var, skew, kurt = poisson.stats(mu, moments='mvsk')\n",
       "\n",
       "Display the probability mass function (``pmf``):\n",
       "\n",
       ">>> x = np.arange(poisson.ppf(0.01, mu),\n",
       "...               poisson.ppf(0.99, mu))\n",
       ">>> ax.plot(x, poisson.pmf(x, mu), 'bo', ms=8, label='poisson pmf')\n",
       ">>> ax.vlines(x, 0, poisson.pmf(x, mu), colors='b', lw=5, alpha=0.5)\n",
       "\n",
       "Alternatively, the distribution object can be called (as a function)\n",
       "to fix the shape and location. This returns a \"frozen\" RV object holding\n",
       "the given parameters fixed.\n",
       "\n",
       "Freeze the distribution and display the frozen ``pmf``:\n",
       "\n",
       ">>> rv = poisson(mu)\n",
       ">>> ax.vlines(x, 0, rv.pmf(x), colors='k', linestyles='-', lw=1,\n",
       "...         label='frozen pmf')\n",
       ">>> ax.legend(loc='best', frameon=False)\n",
       ">>> plt.show()\n",
       "\n",
       "Check accuracy of ``cdf`` and ``ppf``:\n",
       "\n",
       ">>> prob = poisson.cdf(x, mu)\n",
       ">>> np.allclose(x, poisson.ppf(prob, mu))\n",
       "True\n",
       "\n",
       "Generate random numbers:\n",
       "\n",
       ">>> r = poisson.rvs(mu, size=1000)\n",
       "\u001b[0;31mClass docstring:\u001b[0m\n",
       "A Poisson discrete random variable.\n",
       "\n",
       "%(before_notes)s\n",
       "\n",
       "Notes\n",
       "-----\n",
       "The probability mass function for `poisson` is:\n",
       "\n",
       ".. math::\n",
       "\n",
       "    f(k) = \\exp(-\\mu) \\frac{\\mu^k}{k!}\n",
       "\n",
       "for :math:`k \\ge 0`.\n",
       "\n",
       "`poisson` takes :math:`\\mu \\geq 0` as shape parameter.\n",
       "When :math:`\\mu = 0`, the ``pmf`` method\n",
       "returns ``1.0`` at quantile :math:`k = 0`.\n",
       "\n",
       "%(after_notes)s\n",
       "\n",
       "%(example)s\n",
       "\u001b[0;31mCall docstring:\u001b[0m \n",
       "Freeze the distribution for the given arguments.\n",
       "\n",
       "Parameters\n",
       "----------\n",
       "arg1, arg2, arg3,... : array_like\n",
       "    The shape parameter(s) for the distribution.  Should include all\n",
       "    the non-optional arguments, may include ``loc`` and ``scale``.\n",
       "\n",
       "Returns\n",
       "-------\n",
       "rv_frozen : rv_frozen instance\n",
       "    The frozen distribution."
      ]
     },
     "metadata": {},
     "output_type": "display_data"
    }
   ],
   "source": [
    "?stats.poisson"
   ]
  },
  {
   "cell_type": "code",
   "execution_count": null,
   "id": "babb6a80-a469-4157-853d-2a5829abe708",
   "metadata": {},
   "outputs": [],
   "source": []
  }
 ],
 "metadata": {
  "kernelspec": {
   "display_name": "Python 3 (ipykernel)",
   "language": "python",
   "name": "python3"
  },
  "language_info": {
   "codemirror_mode": {
    "name": "ipython",
    "version": 3
   },
   "file_extension": ".py",
   "mimetype": "text/x-python",
   "name": "python",
   "nbconvert_exporter": "python",
   "pygments_lexer": "ipython3",
   "version": "3.8.5"
  }
 },
 "nbformat": 4,
 "nbformat_minor": 5
}
